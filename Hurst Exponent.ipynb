{
 "cells": [
  {
   "cell_type": "code",
   "execution_count": 1,
   "id": "c99b7842",
   "metadata": {},
   "outputs": [],
   "source": [
    "import pandas as pd\n",
    "import yfinance as yf\n",
    "import hurst as hs\n",
    "import numpy as np"
   ]
  },
  {
   "cell_type": "code",
   "execution_count": 2,
   "id": "c0fbcad6",
   "metadata": {},
   "outputs": [],
   "source": [
    "\n",
    "stocks_by_sector = [\n",
    "    [\"AAPL\", \"MSFT\", \"NVDA\", \"GOOGL\", \"INTC\"],  # Technology\n",
    "    [\"JNJ\", \"PFE\", \"UNH\", \"MRK\", \"ABBV\"],       # Healthcare\n",
    "    [\"JPM\", \"BAC\", \"WFC\", \"GS\", \"MS\"],           # Financials\n",
    "    [\"AMZN\", \"TSLA\", \"HD\", \"NKE\", \"MCD\"],        # Consumer Discretionary\n",
    "    [\"XOM\", \"CVX\", \"COP\", \"SLB\", \"EOG\"]          # Energy\n",
    "]\n"
   ]
  },
  {
   "cell_type": "markdown",
   "id": "5e460600",
   "metadata": {},
   "source": [
    "# 10 year data"
   ]
  },
  {
   "cell_type": "markdown",
   "id": "81026a48",
   "metadata": {},
   "source": [
    "## Technology"
   ]
  },
  {
   "cell_type": "code",
   "execution_count": 3,
   "id": "1555d9c4",
   "metadata": {
    "scrolled": true
   },
   "outputs": [
    {
     "name": "stderr",
     "output_type": "stream",
     "text": [
      "[*********************100%%**********************]  5 of 5 completed"
     ]
    },
    {
     "name": "stdout",
     "output_type": "stream",
     "text": [
      "hurst coeff for AAPL is 0.8959440034433787\n",
      "hurst coeff for GOOGL is 0.7647893286221645\n",
      "hurst coeff for INTC is 0.6194643942151964\n",
      "hurst coeff for MSFT is 0.913566178863534\n",
      "hurst coeff for NVDA is 1.2516301308525242\n",
      "Mean Hurst exponent:\n"
     ]
    },
    {
     "name": "stderr",
     "output_type": "stream",
     "text": [
      "\n"
     ]
    },
    {
     "data": {
      "text/plain": [
       "0.8890788071993596"
      ]
     },
     "execution_count": 3,
     "metadata": {},
     "output_type": "execute_result"
    }
   ],
   "source": [
    "data = yf.download(stocks_by_sector[0], start=\"2014-01-01\")[\"Adj Close\"]\n",
    "data = data.dropna()\n",
    "\n",
    "m = []\n",
    "for col in data.columns:\n",
    "    H, c, data_reg = hs.compute_Hc(data[col], kind='price', simplified=True)\n",
    "    print(f\"hurst coeff for {col} is {H}\")\n",
    "    m.append(H)\n",
    "print(\"Mean Hurst exponent:\")\n",
    "np.mean(m)"
   ]
  },
  {
   "cell_type": "markdown",
   "id": "4407fe4d",
   "metadata": {},
   "source": [
    "## Healthcare\n"
   ]
  },
  {
   "cell_type": "code",
   "execution_count": 4,
   "id": "aac2d62f",
   "metadata": {},
   "outputs": [
    {
     "name": "stderr",
     "output_type": "stream",
     "text": [
      "[*********************100%%**********************]  5 of 5 completed"
     ]
    },
    {
     "name": "stdout",
     "output_type": "stream",
     "text": [
      "hurst coeff for ABBV is 0.7020637643259023\n",
      "hurst coeff for JNJ is 0.6275802211635615\n",
      "hurst coeff for MRK is 0.6277668629653258\n",
      "hurst coeff for PFE is 0.5908606140958652\n",
      "hurst coeff for UNH is 0.8481143451403518\n",
      "Mean Hurst exponent:\n"
     ]
    },
    {
     "name": "stderr",
     "output_type": "stream",
     "text": [
      "\n"
     ]
    },
    {
     "data": {
      "text/plain": [
       "0.6792771615382012"
      ]
     },
     "execution_count": 4,
     "metadata": {},
     "output_type": "execute_result"
    }
   ],
   "source": [
    "data = yf.download(stocks_by_sector[1], start=\"2014-01-01\")[\"Adj Close\"]\n",
    "data = data.dropna()\n",
    "\n",
    "m = []\n",
    "for col in data.columns:\n",
    "    H, c, data_reg = hs.compute_Hc(data[col], kind='price', simplified=True)\n",
    "    print(f\"hurst coeff for {col} is {H}\")\n",
    "    m.append(H)\n",
    "print(\"Mean Hurst exponent:\")\n",
    "np.mean(m)"
   ]
  },
  {
   "cell_type": "markdown",
   "id": "0083d469",
   "metadata": {},
   "source": [
    "## Financials\n"
   ]
  },
  {
   "cell_type": "code",
   "execution_count": 5,
   "id": "6d28ec81",
   "metadata": {},
   "outputs": [
    {
     "name": "stderr",
     "output_type": "stream",
     "text": [
      "[*********************100%%**********************]  5 of 5 completed"
     ]
    },
    {
     "name": "stdout",
     "output_type": "stream",
     "text": [
      "hurst coeff for BAC is 0.6787164976870788\n",
      "hurst coeff for GS is 0.6379293057291844\n",
      "hurst coeff for JPM is 0.6884455965852095\n",
      "hurst coeff for MS is 0.7291101323709936\n",
      "hurst coeff for WFC is 0.601464562096611\n",
      "Mean Hurst exponent:\n"
     ]
    },
    {
     "name": "stderr",
     "output_type": "stream",
     "text": [
      "\n"
     ]
    },
    {
     "data": {
      "text/plain": [
       "0.6671332188938155"
      ]
     },
     "execution_count": 5,
     "metadata": {},
     "output_type": "execute_result"
    }
   ],
   "source": [
    "data = yf.download(stocks_by_sector[2], start=\"2014-01-01\")[\"Adj Close\"]\n",
    "data = data.dropna()\n",
    "\n",
    "m = []\n",
    "for col in data.columns:\n",
    "    H, c, data_reg = hs.compute_Hc(data[col], kind='price', simplified=True)\n",
    "    print(f\"hurst coeff for {col} is {H}\")\n",
    "    m.append(H)\n",
    "print(\"Mean Hurst exponent:\")\n",
    "np.mean(m)"
   ]
  },
  {
   "cell_type": "markdown",
   "id": "090be318",
   "metadata": {},
   "source": [
    "## Consumer Discretionary\n"
   ]
  },
  {
   "cell_type": "code",
   "execution_count": 6,
   "id": "707dcf5a",
   "metadata": {},
   "outputs": [
    {
     "name": "stderr",
     "output_type": "stream",
     "text": [
      "[*********************100%%**********************]  5 of 5 completed"
     ]
    },
    {
     "name": "stdout",
     "output_type": "stream",
     "text": [
      "hurst coeff for AMZN is 0.8989611582681909\n",
      "hurst coeff for HD is 0.7820862143340215\n",
      "hurst coeff for MCD is 0.7141636641620773\n",
      "hurst coeff for NKE is 0.7272802418862337\n",
      "hurst coeff for TSLA is 1.0279622072011447\n",
      "Mean Hurst exponent:\n"
     ]
    },
    {
     "name": "stderr",
     "output_type": "stream",
     "text": [
      "\n"
     ]
    },
    {
     "data": {
      "text/plain": [
       "0.8300906971703336"
      ]
     },
     "execution_count": 6,
     "metadata": {},
     "output_type": "execute_result"
    }
   ],
   "source": [
    "data = yf.download(stocks_by_sector[3], start=\"2014-01-01\")[\"Adj Close\"]\n",
    "data = data.dropna()\n",
    "\n",
    "m = []\n",
    "for col in data.columns:\n",
    "    H, c, data_reg = hs.compute_Hc(data[col], kind='price', simplified=True)\n",
    "    print(f\"hurst coeff for {col} is {H}\")\n",
    "    m.append(H)\n",
    "print(\"Mean Hurst exponent:\")\n",
    "np.mean(m)"
   ]
  },
  {
   "cell_type": "markdown",
   "id": "d86eba0f",
   "metadata": {},
   "source": [
    "## Energy"
   ]
  },
  {
   "cell_type": "code",
   "execution_count": 7,
   "id": "4730bf32",
   "metadata": {
    "scrolled": true
   },
   "outputs": [
    {
     "name": "stderr",
     "output_type": "stream",
     "text": [
      "[*********************100%%**********************]  5 of 5 completed"
     ]
    },
    {
     "name": "stdout",
     "output_type": "stream",
     "text": [
      "hurst coeff for COP is 0.6877774814292672\n",
      "hurst coeff for CVX is 0.6155155361561205\n",
      "hurst coeff for EOG is 0.6866733885313164\n",
      "hurst coeff for SLB is 0.7797060704757737\n",
      "hurst coeff for XOM is 0.6654736033523269\n",
      "Mean Hurst exponent:\n"
     ]
    },
    {
     "name": "stderr",
     "output_type": "stream",
     "text": [
      "\n"
     ]
    },
    {
     "data": {
      "text/plain": [
       "0.6870292159889609"
      ]
     },
     "execution_count": 7,
     "metadata": {},
     "output_type": "execute_result"
    }
   ],
   "source": [
    "data = yf.download(stocks_by_sector[4], start=\"2014-01-01\")[\"Adj Close\"]\n",
    "data = data.dropna()\n",
    "\n",
    "m = []\n",
    "for col in data.columns:\n",
    "    H, c, data_reg = hs.compute_Hc(data[col], kind='price', simplified=True)\n",
    "    print(f\"hurst coeff for {col} is {H}\")\n",
    "    m.append(H)\n",
    "print(\"Mean Hurst exponent:\")\n",
    "np.mean(m)"
   ]
  },
  {
   "cell_type": "markdown",
   "id": "3e31fe48",
   "metadata": {},
   "source": [
    "# 5 year"
   ]
  },
  {
   "cell_type": "markdown",
   "id": "6dc1041c",
   "metadata": {},
   "source": [
    "## technology"
   ]
  },
  {
   "cell_type": "code",
   "execution_count": 8,
   "id": "b25abfe0",
   "metadata": {},
   "outputs": [
    {
     "name": "stderr",
     "output_type": "stream",
     "text": [
      "[*********************100%%**********************]  5 of 5 completed"
     ]
    },
    {
     "name": "stdout",
     "output_type": "stream",
     "text": [
      "hurst coeff for AAPL is 0.5431881957281525\n",
      "hurst coeff for GOOGL is 0.6163450229699166\n",
      "hurst coeff for INTC is 0.674718262532972\n",
      "hurst coeff for MSFT is 0.6111679619897769\n",
      "hurst coeff for NVDA is 0.82665234011185\n",
      "Mean Hurst exponent:\n",
      "0.6544143566665336\n"
     ]
    },
    {
     "name": "stderr",
     "output_type": "stream",
     "text": [
      "\n"
     ]
    }
   ],
   "source": [
    "data = yf.download(stocks_by_sector[0], start=\"2021-01-01\")[\"Adj Close\"]\n",
    "data = data.dropna()\n",
    "\n",
    "m = []\n",
    "for col in data.columns:\n",
    "    H, c, data_reg = hs.compute_Hc(data[col], kind='price', simplified=True)\n",
    "    print(f\"hurst coeff for {col} is {H}\")\n",
    "    m.append(H)\n",
    "print(\"Mean Hurst exponent:\")\n",
    "print(np.mean(m))\n"
   ]
  },
  {
   "cell_type": "markdown",
   "id": "ffd34c11",
   "metadata": {},
   "source": [
    "## Healthcare\n"
   ]
  },
  {
   "cell_type": "code",
   "execution_count": 9,
   "id": "4a09f067",
   "metadata": {},
   "outputs": [
    {
     "name": "stderr",
     "output_type": "stream",
     "text": [
      "[*********************100%%**********************]  5 of 5 completed"
     ]
    },
    {
     "name": "stdout",
     "output_type": "stream",
     "text": [
      "hurst coeff for ABBV is 0.6617600339419325\n",
      "hurst coeff for JNJ is 0.40185472405433975\n",
      "hurst coeff for MRK is 0.6439183244106357\n",
      "hurst coeff for PFE is 0.6397442407210164\n",
      "hurst coeff for UNH is 0.6266108328610658\n",
      "Mean Hurst exponent:\n",
      "0.594777631197798\n"
     ]
    },
    {
     "name": "stderr",
     "output_type": "stream",
     "text": [
      "\n"
     ]
    }
   ],
   "source": [
    "\n",
    "\n",
    "\n",
    "data = yf.download(stocks_by_sector[1], start=\"2021-01-01\")[\"Adj Close\"]\n",
    "data = data.dropna()\n",
    "\n",
    "m = []\n",
    "for col in data.columns:\n",
    "    H, c, data_reg = hs.compute_Hc(data[col], kind='price', simplified=True)\n",
    "    print(f\"hurst coeff for {col} is {H}\")\n",
    "    m.append(H)\n",
    "print(\"Mean Hurst exponent:\")\n",
    "print(np.mean(m))\n"
   ]
  },
  {
   "cell_type": "markdown",
   "id": "87ebacc7",
   "metadata": {},
   "source": [
    "## Financials\n"
   ]
  },
  {
   "cell_type": "code",
   "execution_count": 10,
   "id": "b229376d",
   "metadata": {},
   "outputs": [
    {
     "name": "stderr",
     "output_type": "stream",
     "text": [
      "[*********************100%%**********************]  5 of 5 completed"
     ]
    },
    {
     "name": "stdout",
     "output_type": "stream",
     "text": [
      "hurst coeff for BAC is 0.5488507948602162\n",
      "hurst coeff for GS is 0.5663638374895704\n",
      "hurst coeff for JPM is 0.5900707714839262\n",
      "hurst coeff for MS is 0.5243796235211974\n",
      "hurst coeff for WFC is 0.5999496734288866\n",
      "Mean Hurst exponent:\n",
      "0.5659229401567594\n"
     ]
    },
    {
     "name": "stderr",
     "output_type": "stream",
     "text": [
      "\n"
     ]
    }
   ],
   "source": [
    "\n",
    "\n",
    "\n",
    "data = yf.download(stocks_by_sector[2], start=\"2021-01-01\")[\"Adj Close\"]\n",
    "data = data.dropna()\n",
    "\n",
    "m = []\n",
    "for col in data.columns:\n",
    "    H, c, data_reg = hs.compute_Hc(data[col], kind='price', simplified=True)\n",
    "    print(f\"hurst coeff for {col} is {H}\")\n",
    "    m.append(H)\n",
    "print(\"Mean Hurst exponent:\")\n",
    "print(np.mean(m))\n"
   ]
  },
  {
   "cell_type": "markdown",
   "id": "eb22244b",
   "metadata": {},
   "source": [
    "## Consumer Discretionary\n"
   ]
  },
  {
   "cell_type": "code",
   "execution_count": 11,
   "id": "60124f18",
   "metadata": {},
   "outputs": [
    {
     "name": "stderr",
     "output_type": "stream",
     "text": [
      "[*********************100%%**********************]  5 of 5 completed\n"
     ]
    },
    {
     "name": "stdout",
     "output_type": "stream",
     "text": [
      "hurst coeff for AMZN is 0.6125487059541075\n",
      "hurst coeff for HD is 0.5456696052342777\n",
      "hurst coeff for MCD is 0.5642935981598153\n",
      "hurst coeff for NKE is 0.6005845208690895\n",
      "hurst coeff for TSLA is 0.6457290479015743\n",
      "Mean Hurst exponent:\n",
      "0.5937650956237729\n"
     ]
    }
   ],
   "source": [
    "\n",
    "\n",
    "\n",
    "data = yf.download(stocks_by_sector[3], start=\"2021-01-01\")[\"Adj Close\"]\n",
    "data = data.dropna()\n",
    "\n",
    "m = []\n",
    "for col in data.columns:\n",
    "    H, c, data_reg = hs.compute_Hc(data[col], kind='price', simplified=True)\n",
    "    print(f\"hurst coeff for {col} is {H}\")\n",
    "    m.append(H)\n",
    "print(\"Mean Hurst exponent:\")\n",
    "print(np.mean(m))\n"
   ]
  },
  {
   "cell_type": "markdown",
   "id": "d098b463",
   "metadata": {},
   "source": [
    "## Energy\n"
   ]
  },
  {
   "cell_type": "code",
   "execution_count": 12,
   "id": "17d9dc3e",
   "metadata": {
    "scrolled": false
   },
   "outputs": [
    {
     "name": "stderr",
     "output_type": "stream",
     "text": [
      "[*********************100%%**********************]  5 of 5 completed"
     ]
    },
    {
     "name": "stdout",
     "output_type": "stream",
     "text": [
      "hurst coeff for COP is 0.7802194165435952\n",
      "hurst coeff for CVX is 0.7176889099610456\n",
      "hurst coeff for EOG is 0.7163711646883487\n",
      "hurst coeff for SLB is 0.6535354001410014\n",
      "hurst coeff for XOM is 0.7835097419259848\n",
      "Mean Hurst exponent:\n",
      "0.7302649266519952\n"
     ]
    },
    {
     "name": "stderr",
     "output_type": "stream",
     "text": [
      "\n"
     ]
    }
   ],
   "source": [
    "\n",
    "\n",
    "data = yf.download(stocks_by_sector[4], start=\"2021-01-01\")[\"Adj Close\"]\n",
    "data = data.dropna()\n",
    "\n",
    "m = []\n",
    "for col in data.columns:\n",
    "    H, c, data_reg = hs.compute_Hc(data[col], kind='price', simplified=True)\n",
    "    print(f\"hurst coeff for {col} is {H}\")\n",
    "    m.append(H)\n",
    "print(\"Mean Hurst exponent:\")\n",
    "print(np.mean(m))\n"
   ]
  },
  {
   "cell_type": "code",
   "execution_count": null,
   "id": "c5838158",
   "metadata": {},
   "outputs": [],
   "source": []
  },
  {
   "cell_type": "code",
   "execution_count": null,
   "id": "ec702cbc",
   "metadata": {},
   "outputs": [],
   "source": []
  },
  {
   "cell_type": "markdown",
   "id": "9466f7bd",
   "metadata": {},
   "source": [
    "# 1 year\n",
    "\n",
    "## technology\n"
   ]
  },
  {
   "cell_type": "code",
   "execution_count": 13,
   "id": "6b4162e2",
   "metadata": {},
   "outputs": [
    {
     "name": "stderr",
     "output_type": "stream",
     "text": [
      "[*********************100%%**********************]  5 of 5 completed"
     ]
    },
    {
     "name": "stdout",
     "output_type": "stream",
     "text": [
      "hurst coeff for AAPL is 0.6286359578174231\n",
      "hurst coeff for GOOGL is 0.6464570907153117\n",
      "hurst coeff for INTC is 0.9036745178318217\n",
      "hurst coeff for MSFT is 0.5474125264604803\n",
      "hurst coeff for NVDA is 0.8924199188744762\n",
      "Mean Hurst exponent:\n",
      "0.7237200023399026\n"
     ]
    },
    {
     "name": "stderr",
     "output_type": "stream",
     "text": [
      "\n"
     ]
    }
   ],
   "source": [
    "\n",
    "data = yf.download(stocks_by_sector[0], start=\"2024-01-01\")[\"Adj Close\"]\n",
    "data = data.dropna()\n",
    "\n",
    "m = []\n",
    "for col in data.columns:\n",
    "    H, c, data_reg = hs.compute_Hc(data[col], kind='price', simplified=True)\n",
    "    print(f\"hurst coeff for {col} is {H}\")\n",
    "    m.append(H)\n",
    "print(\"Mean Hurst exponent:\")\n",
    "print(np.mean(m))\n",
    "\n",
    "\n",
    "\n"
   ]
  },
  {
   "cell_type": "markdown",
   "id": "5a4a2b22",
   "metadata": {},
   "source": [
    "## Healthcare\n",
    "\n"
   ]
  },
  {
   "cell_type": "code",
   "execution_count": 14,
   "id": "1d845d38",
   "metadata": {},
   "outputs": [
    {
     "name": "stderr",
     "output_type": "stream",
     "text": [
      "[*********************100%%**********************]  5 of 5 completed"
     ]
    },
    {
     "name": "stdout",
     "output_type": "stream",
     "text": [
      "hurst coeff for ABBV is 0.5109092011902503\n",
      "hurst coeff for JNJ is 0.5343828356306234\n",
      "hurst coeff for MRK is 0.4669181355611099\n",
      "hurst coeff for PFE is 0.5384016286540854\n",
      "hurst coeff for UNH is 0.6083581835072785\n",
      "Mean Hurst exponent:\n",
      "0.5317939969086696\n"
     ]
    },
    {
     "name": "stderr",
     "output_type": "stream",
     "text": [
      "\n"
     ]
    }
   ],
   "source": [
    "\n",
    "\n",
    "\n",
    "\n",
    "data = yf.download(stocks_by_sector[1], start=\"2024-01-01\")[\"Adj Close\"]\n",
    "data = data.dropna()\n",
    "\n",
    "m = []\n",
    "for col in data.columns:\n",
    "    H, c, data_reg = hs.compute_Hc(data[col], kind='price', simplified=True)\n",
    "    print(f\"hurst coeff for {col} is {H}\")\n",
    "    m.append(H)\n",
    "print(\"Mean Hurst exponent:\")\n",
    "print(np.mean(m))\n"
   ]
  },
  {
   "cell_type": "markdown",
   "id": "6ee858dd",
   "metadata": {},
   "source": [
    "\n",
    "\n",
    "## Financials\n",
    "\n",
    "\n",
    "\n",
    "\n"
   ]
  },
  {
   "cell_type": "code",
   "execution_count": 15,
   "id": "6a843814",
   "metadata": {},
   "outputs": [
    {
     "name": "stderr",
     "output_type": "stream",
     "text": [
      "[*********************100%%**********************]  5 of 5 completed"
     ]
    },
    {
     "name": "stdout",
     "output_type": "stream",
     "text": [
      "hurst coeff for BAC is 0.6606817931381689\n",
      "hurst coeff for GS is 0.7306885284391227\n",
      "hurst coeff for JPM is 0.6656811283269912\n",
      "hurst coeff for MS is 0.5493298476862655\n",
      "hurst coeff for WFC is 0.6758974598519463\n",
      "Mean Hurst exponent:\n",
      "0.656455751488499\n"
     ]
    },
    {
     "name": "stderr",
     "output_type": "stream",
     "text": [
      "\n"
     ]
    }
   ],
   "source": [
    "\n",
    "data = yf.download(stocks_by_sector[2], start=\"2024-01-01\")[\"Adj Close\"]\n",
    "data = data.dropna()\n",
    "\n",
    "m = []\n",
    "for col in data.columns:\n",
    "    H, c, data_reg = hs.compute_Hc(data[col], kind='price', simplified=True)\n",
    "    print(f\"hurst coeff for {col} is {H}\")\n",
    "    m.append(H)\n",
    "print(\"Mean Hurst exponent:\")\n",
    "print(np.mean(m))\n",
    "\n"
   ]
  },
  {
   "cell_type": "markdown",
   "id": "e84f0037",
   "metadata": {},
   "source": [
    "\n",
    "## Consumer Discretionary\n",
    "\n",
    "\n"
   ]
  },
  {
   "cell_type": "code",
   "execution_count": 16,
   "id": "c10b2967",
   "metadata": {},
   "outputs": [
    {
     "name": "stderr",
     "output_type": "stream",
     "text": [
      "[*********************100%%**********************]  5 of 5 completed"
     ]
    },
    {
     "name": "stdout",
     "output_type": "stream",
     "text": [
      "hurst coeff for AMZN is 0.6197443491488352\n",
      "hurst coeff for HD is 0.5317523732529773\n",
      "hurst coeff for MCD is 0.551581009123262\n",
      "hurst coeff for NKE is 0.6129489616501516\n",
      "hurst coeff for TSLA is 0.6389937626439728\n",
      "Mean Hurst exponent:\n",
      "0.5910040911638397\n"
     ]
    },
    {
     "name": "stderr",
     "output_type": "stream",
     "text": [
      "\n"
     ]
    }
   ],
   "source": [
    "\n",
    "\n",
    "\n",
    "data = yf.download(stocks_by_sector[3], start=\"2024-01-01\")[\"Adj Close\"]\n",
    "data = data.dropna()\n",
    "\n",
    "m = []\n",
    "for col in data.columns:\n",
    "    H, c, data_reg = hs.compute_Hc(data[col], kind='price', simplified=True)\n",
    "    print(f\"hurst coeff for {col} is {H}\")\n",
    "    m.append(H)\n",
    "print(\"Mean Hurst exponent:\")\n",
    "print(np.mean(m))\n"
   ]
  },
  {
   "cell_type": "markdown",
   "id": "9fa3a476",
   "metadata": {},
   "source": [
    "\n",
    "\n",
    "## Energy\n",
    "\n",
    "\n"
   ]
  },
  {
   "cell_type": "code",
   "execution_count": 17,
   "id": "53e26984",
   "metadata": {},
   "outputs": [
    {
     "name": "stderr",
     "output_type": "stream",
     "text": [
      "[*********************100%%**********************]  5 of 5 completed"
     ]
    },
    {
     "name": "stdout",
     "output_type": "stream",
     "text": [
      "hurst coeff for COP is 0.5996895231857466\n",
      "hurst coeff for CVX is 0.5112365451795541\n",
      "hurst coeff for EOG is 0.5482415884250568\n",
      "hurst coeff for SLB is 0.47092888989639015\n",
      "hurst coeff for XOM is 0.657491752026009\n",
      "Mean Hurst exponent:\n",
      "0.5575176597425513\n"
     ]
    },
    {
     "name": "stderr",
     "output_type": "stream",
     "text": [
      "\n"
     ]
    }
   ],
   "source": [
    "\n",
    "\n",
    "data = yf.download(stocks_by_sector[4], start=\"2024-01-01\")[\"Adj Close\"]\n",
    "data = data.dropna()\n",
    "\n",
    "m = []\n",
    "for col in data.columns:\n",
    "    H, c, data_reg = hs.compute_Hc(data[col], kind='price', simplified=True)\n",
    "    print(f\"hurst coeff for {col} is {H}\")\n",
    "    m.append(H)\n",
    "print(\"Mean Hurst exponent:\")\n",
    "print(np.mean(m))"
   ]
  }
 ],
 "metadata": {
  "kernelspec": {
   "display_name": "Python 3 (ipykernel)",
   "language": "python",
   "name": "python3"
  },
  "language_info": {
   "codemirror_mode": {
    "name": "ipython",
    "version": 3
   },
   "file_extension": ".py",
   "mimetype": "text/x-python",
   "name": "python",
   "nbconvert_exporter": "python",
   "pygments_lexer": "ipython3",
   "version": "3.11.5"
  }
 },
 "nbformat": 4,
 "nbformat_minor": 5
}
