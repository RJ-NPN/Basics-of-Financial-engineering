{
 "cells": [
  {
   "cell_type": "code",
   "execution_count": 33,
   "id": "8a3ee078",
   "metadata": {},
   "outputs": [],
   "source": [
    "import pandas as pd\n",
    "import numpy as np\n",
    "import matplotlib.pyplot as plt\n",
    "from sklearn.model_selection import train_test_split\n",
    "from sklearn.linear_model import LogisticRegression\n",
    "from sklearn.metrics import accuracy_score"
   ]
  },
  {
   "cell_type": "code",
   "execution_count": 19,
   "id": "c1f08d3a",
   "metadata": {},
   "outputs": [],
   "source": [
    "data = pd.read_csv(\"Loan_Data.csv\")"
   ]
  },
  {
   "cell_type": "code",
   "execution_count": 22,
   "id": "d2505675",
   "metadata": {},
   "outputs": [
    {
     "data": {
      "text/html": [
       "<div>\n",
       "<style scoped>\n",
       "    .dataframe tbody tr th:only-of-type {\n",
       "        vertical-align: middle;\n",
       "    }\n",
       "\n",
       "    .dataframe tbody tr th {\n",
       "        vertical-align: top;\n",
       "    }\n",
       "\n",
       "    .dataframe thead th {\n",
       "        text-align: right;\n",
       "    }\n",
       "</style>\n",
       "<table border=\"1\" class=\"dataframe\">\n",
       "  <thead>\n",
       "    <tr style=\"text-align: right;\">\n",
       "      <th></th>\n",
       "      <th>customer_id</th>\n",
       "      <th>credit_lines_outstanding</th>\n",
       "      <th>loan_amt_outstanding</th>\n",
       "      <th>total_debt_outstanding</th>\n",
       "      <th>income</th>\n",
       "      <th>years_employed</th>\n",
       "      <th>fico_score</th>\n",
       "      <th>default</th>\n",
       "    </tr>\n",
       "  </thead>\n",
       "  <tbody>\n",
       "    <tr>\n",
       "      <th>0</th>\n",
       "      <td>8153374</td>\n",
       "      <td>0</td>\n",
       "      <td>5221.545193</td>\n",
       "      <td>3915.471226</td>\n",
       "      <td>78039.38546</td>\n",
       "      <td>5</td>\n",
       "      <td>605</td>\n",
       "      <td>0</td>\n",
       "    </tr>\n",
       "    <tr>\n",
       "      <th>1</th>\n",
       "      <td>7442532</td>\n",
       "      <td>5</td>\n",
       "      <td>1958.928726</td>\n",
       "      <td>8228.752520</td>\n",
       "      <td>26648.43525</td>\n",
       "      <td>2</td>\n",
       "      <td>572</td>\n",
       "      <td>1</td>\n",
       "    </tr>\n",
       "    <tr>\n",
       "      <th>2</th>\n",
       "      <td>2256073</td>\n",
       "      <td>0</td>\n",
       "      <td>3363.009259</td>\n",
       "      <td>2027.830850</td>\n",
       "      <td>65866.71246</td>\n",
       "      <td>4</td>\n",
       "      <td>602</td>\n",
       "      <td>0</td>\n",
       "    </tr>\n",
       "    <tr>\n",
       "      <th>3</th>\n",
       "      <td>4885975</td>\n",
       "      <td>0</td>\n",
       "      <td>4766.648001</td>\n",
       "      <td>2501.730397</td>\n",
       "      <td>74356.88347</td>\n",
       "      <td>5</td>\n",
       "      <td>612</td>\n",
       "      <td>0</td>\n",
       "    </tr>\n",
       "    <tr>\n",
       "      <th>4</th>\n",
       "      <td>4700614</td>\n",
       "      <td>1</td>\n",
       "      <td>1345.827718</td>\n",
       "      <td>1768.826187</td>\n",
       "      <td>23448.32631</td>\n",
       "      <td>6</td>\n",
       "      <td>631</td>\n",
       "      <td>0</td>\n",
       "    </tr>\n",
       "    <tr>\n",
       "      <th>...</th>\n",
       "      <td>...</td>\n",
       "      <td>...</td>\n",
       "      <td>...</td>\n",
       "      <td>...</td>\n",
       "      <td>...</td>\n",
       "      <td>...</td>\n",
       "      <td>...</td>\n",
       "      <td>...</td>\n",
       "    </tr>\n",
       "    <tr>\n",
       "      <th>9995</th>\n",
       "      <td>3972488</td>\n",
       "      <td>0</td>\n",
       "      <td>3033.647103</td>\n",
       "      <td>2553.733144</td>\n",
       "      <td>42691.62787</td>\n",
       "      <td>5</td>\n",
       "      <td>697</td>\n",
       "      <td>0</td>\n",
       "    </tr>\n",
       "    <tr>\n",
       "      <th>9996</th>\n",
       "      <td>6184073</td>\n",
       "      <td>1</td>\n",
       "      <td>4146.239304</td>\n",
       "      <td>5458.163525</td>\n",
       "      <td>79969.50521</td>\n",
       "      <td>8</td>\n",
       "      <td>615</td>\n",
       "      <td>0</td>\n",
       "    </tr>\n",
       "    <tr>\n",
       "      <th>9997</th>\n",
       "      <td>6694516</td>\n",
       "      <td>2</td>\n",
       "      <td>3088.223727</td>\n",
       "      <td>4813.090925</td>\n",
       "      <td>38192.67591</td>\n",
       "      <td>5</td>\n",
       "      <td>596</td>\n",
       "      <td>0</td>\n",
       "    </tr>\n",
       "    <tr>\n",
       "      <th>9998</th>\n",
       "      <td>3942961</td>\n",
       "      <td>0</td>\n",
       "      <td>3288.901666</td>\n",
       "      <td>1043.099660</td>\n",
       "      <td>50929.37206</td>\n",
       "      <td>2</td>\n",
       "      <td>647</td>\n",
       "      <td>0</td>\n",
       "    </tr>\n",
       "    <tr>\n",
       "      <th>9999</th>\n",
       "      <td>5533570</td>\n",
       "      <td>1</td>\n",
       "      <td>1917.652480</td>\n",
       "      <td>3050.248203</td>\n",
       "      <td>30611.62821</td>\n",
       "      <td>6</td>\n",
       "      <td>757</td>\n",
       "      <td>0</td>\n",
       "    </tr>\n",
       "  </tbody>\n",
       "</table>\n",
       "<p>10000 rows × 8 columns</p>\n",
       "</div>"
      ],
      "text/plain": [
       "      customer_id  credit_lines_outstanding  loan_amt_outstanding  \\\n",
       "0         8153374                         0           5221.545193   \n",
       "1         7442532                         5           1958.928726   \n",
       "2         2256073                         0           3363.009259   \n",
       "3         4885975                         0           4766.648001   \n",
       "4         4700614                         1           1345.827718   \n",
       "...           ...                       ...                   ...   \n",
       "9995      3972488                         0           3033.647103   \n",
       "9996      6184073                         1           4146.239304   \n",
       "9997      6694516                         2           3088.223727   \n",
       "9998      3942961                         0           3288.901666   \n",
       "9999      5533570                         1           1917.652480   \n",
       "\n",
       "      total_debt_outstanding       income  years_employed  fico_score  default  \n",
       "0                3915.471226  78039.38546               5         605        0  \n",
       "1                8228.752520  26648.43525               2         572        1  \n",
       "2                2027.830850  65866.71246               4         602        0  \n",
       "3                2501.730397  74356.88347               5         612        0  \n",
       "4                1768.826187  23448.32631               6         631        0  \n",
       "...                      ...          ...             ...         ...      ...  \n",
       "9995             2553.733144  42691.62787               5         697        0  \n",
       "9996             5458.163525  79969.50521               8         615        0  \n",
       "9997             4813.090925  38192.67591               5         596        0  \n",
       "9998             1043.099660  50929.37206               2         647        0  \n",
       "9999             3050.248203  30611.62821               6         757        0  \n",
       "\n",
       "[10000 rows x 8 columns]"
      ]
     },
     "execution_count": 22,
     "metadata": {},
     "output_type": "execute_result"
    }
   ],
   "source": [
    "data"
   ]
  },
  {
   "cell_type": "code",
   "execution_count": 9,
   "id": "9179db7b",
   "metadata": {},
   "outputs": [
    {
     "data": {
      "text/plain": [
       "customer_id                 0\n",
       "credit_lines_outstanding    0\n",
       "loan_amt_outstanding        0\n",
       "total_debt_outstanding      0\n",
       "income                      0\n",
       "years_employed              0\n",
       "fico_score                  0\n",
       "default                     0\n",
       "dtype: int64"
      ]
     },
     "execution_count": 9,
     "metadata": {},
     "output_type": "execute_result"
    }
   ],
   "source": [
    "pd.isna(data).sum()"
   ]
  },
  {
   "cell_type": "code",
   "execution_count": 14,
   "id": "ed75774b",
   "metadata": {},
   "outputs": [
    {
     "data": {
      "text/plain": [
       "customer_id                 0.006927\n",
       "credit_lines_outstanding    0.862815\n",
       "loan_amt_outstanding        0.098978\n",
       "total_debt_outstanding      0.758868\n",
       "income                      0.016309\n",
       "years_employed             -0.284506\n",
       "fico_score                 -0.324515\n",
       "default                     1.000000\n",
       "Name: default, dtype: float64"
      ]
     },
     "execution_count": 14,
     "metadata": {},
     "output_type": "execute_result"
    }
   ],
   "source": [
    "data.corr()[\"default\"]"
   ]
  },
  {
   "cell_type": "code",
   "execution_count": 67,
   "id": "d2fa60f8",
   "metadata": {},
   "outputs": [
    {
     "data": {
      "image/png": "[encoded data removed]",
      "text/plain": [
       "<Figure size 640x480 with 1 Axes>"
      ]
     },
     "metadata": {},
     "output_type": "display_data"
    }
   ],
   "source": [
    "data_default_0 = data[data['default'] == 0]['total_debt_outstanding']\n",
    "data_default_1 = data[data['default'] == 1]['total_debt_outstanding']\n",
    "plt.boxplot([data_default_0, data_default_1], labels=['Default 0', 'Default 1']);"
   ]
  },
  {
   "cell_type": "code",
   "execution_count": 68,
   "id": "5cee913d",
   "metadata": {},
   "outputs": [
    {
     "data": {
      "image/png": "[encoded data removed]",
      "text/plain": [
       "<Figure size 640x480 with 1 Axes>"
      ]
     },
     "metadata": {},
     "output_type": "display_data"
    }
   ],
   "source": [
    "data_default_0 = data[data['default'] == 0]['credit_lines_outstanding']\n",
    "data_default_1 = data[data['default'] == 1]['credit_lines_outstanding']\n",
    "plt.boxplot([data_default_0, data_default_1], labels=['Default 0', 'Default 1']);"
   ]
  },
  {
   "cell_type": "markdown",
   "id": "154877ce",
   "metadata": {},
   "source": [
    "\n",
    "### Results show:\n",
    "1. credit_lines_outstanding, total_debt_outstanding are significant factors which may predict default risk\n",
    "2. Higher the fico score, years employed, lower is the chance of default\n"
   ]
  },
  {
   "cell_type": "code",
   "execution_count": 78,
   "id": "eb936869",
   "metadata": {},
   "outputs": [
    {
     "name": "stdout",
     "output_type": "stream",
     "text": [
      "Accuracy: 0.984\n"
     ]
    }
   ],
   "source": [
    "X_train, X_test, y_train, y_test = train_test_split(data.iloc[:, :-1], data.iloc[:, -1], test_size=0.2, random_state=50)\n",
    "\n",
    "model = LogisticRegression()\n",
    "model.fit(X_train, y_train)\n",
    "y_pred = model.predict(X_test)\n",
    "accuracy = accuracy_score(y_test, y_pred)\n",
    "print(\"Accuracy:\", accuracy)"
   ]
  },
  {
   "cell_type": "markdown",
   "id": "8e117b52",
   "metadata": {},
   "source": [
    "#### For Loss:\n",
    "Considering if a loan defaults, the 90% of total debt + loan amount outstanding is not paid resulting in loss"
   ]
  },
  {
   "cell_type": "code",
   "execution_count": 84,
   "id": "4b7e46e7",
   "metadata": {},
   "outputs": [
    {
     "data": {
      "text/html": [
       "<div>\n",
       "<style scoped>\n",
       "    .dataframe tbody tr th:only-of-type {\n",
       "        vertical-align: middle;\n",
       "    }\n",
       "\n",
       "    .dataframe tbody tr th {\n",
       "        vertical-align: top;\n",
       "    }\n",
       "\n",
       "    .dataframe thead th {\n",
       "        text-align: right;\n",
       "    }\n",
       "</style>\n",
       "<table border=\"1\" class=\"dataframe\">\n",
       "  <thead>\n",
       "    <tr style=\"text-align: right;\">\n",
       "      <th></th>\n",
       "      <th>prob</th>\n",
       "      <th>default</th>\n",
       "      <th>Loss</th>\n",
       "    </tr>\n",
       "  </thead>\n",
       "  <tbody>\n",
       "    <tr>\n",
       "      <th>4161</th>\n",
       "      <td>7.756462e-11</td>\n",
       "      <td>1</td>\n",
       "      <td>34432.074432</td>\n",
       "    </tr>\n",
       "    <tr>\n",
       "      <th>8770</th>\n",
       "      <td>8.353141e-02</td>\n",
       "      <td>1</td>\n",
       "      <td>13654.513926</td>\n",
       "    </tr>\n",
       "    <tr>\n",
       "      <th>2884</th>\n",
       "      <td>3.092587e-04</td>\n",
       "      <td>1</td>\n",
       "      <td>21600.788723</td>\n",
       "    </tr>\n",
       "    <tr>\n",
       "      <th>102</th>\n",
       "      <td>3.573439e-09</td>\n",
       "      <td>1</td>\n",
       "      <td>32249.371960</td>\n",
       "    </tr>\n",
       "    <tr>\n",
       "      <th>7294</th>\n",
       "      <td>1.737555e-06</td>\n",
       "      <td>1</td>\n",
       "      <td>25960.008679</td>\n",
       "    </tr>\n",
       "    <tr>\n",
       "      <th>...</th>\n",
       "      <td>...</td>\n",
       "      <td>...</td>\n",
       "      <td>...</td>\n",
       "    </tr>\n",
       "    <tr>\n",
       "      <th>5301</th>\n",
       "      <td>5.713105e-02</td>\n",
       "      <td>1</td>\n",
       "      <td>13378.738442</td>\n",
       "    </tr>\n",
       "    <tr>\n",
       "      <th>5490</th>\n",
       "      <td>1.842777e-03</td>\n",
       "      <td>1</td>\n",
       "      <td>21871.636723</td>\n",
       "    </tr>\n",
       "    <tr>\n",
       "      <th>4073</th>\n",
       "      <td>9.447269e-04</td>\n",
       "      <td>1</td>\n",
       "      <td>27272.851391</td>\n",
       "    </tr>\n",
       "    <tr>\n",
       "      <th>6755</th>\n",
       "      <td>2.857263e-03</td>\n",
       "      <td>1</td>\n",
       "      <td>17293.836253</td>\n",
       "    </tr>\n",
       "    <tr>\n",
       "      <th>2138</th>\n",
       "      <td>3.869925e-06</td>\n",
       "      <td>1</td>\n",
       "      <td>34550.365828</td>\n",
       "    </tr>\n",
       "  </tbody>\n",
       "</table>\n",
       "<p>380 rows × 3 columns</p>\n",
       "</div>"
      ],
      "text/plain": [
       "              prob  default          Loss\n",
       "4161  7.756462e-11        1  34432.074432\n",
       "8770  8.353141e-02        1  13654.513926\n",
       "2884  3.092587e-04        1  21600.788723\n",
       "102   3.573439e-09        1  32249.371960\n",
       "7294  1.737555e-06        1  25960.008679\n",
       "...            ...      ...           ...\n",
       "5301  5.713105e-02        1  13378.738442\n",
       "5490  1.842777e-03        1  21871.636723\n",
       "4073  9.447269e-04        1  27272.851391\n",
       "6755  2.857263e-03        1  17293.836253\n",
       "2138  3.869925e-06        1  34550.365828\n",
       "\n",
       "[380 rows x 3 columns]"
      ]
     },
     "execution_count": 84,
     "metadata": {},
     "output_type": "execute_result"
    }
   ],
   "source": [
    "prob_default = model.predict_proba(X_test)\n",
    "probs = [prob[0] for prob in prob_default]\n",
    "\n",
    "df = pd.DataFrame({\n",
    "    \"prob\" : probs,\n",
    "    \"default\": y_pred,\n",
    "    \"Loss\": (X_test.loan_amt_outstanding + X_test.total_debt_outstanding) * 0.9\n",
    "})\n",
    "\n",
    "df[df.default==1]"
   ]
  },
  {
   "cell_type": "code",
   "execution_count": 88,
   "id": "dc109570",
   "metadata": {},
   "outputs": [
    {
     "name": "stdout",
     "output_type": "stream",
     "text": [
      "Total loss if 380 loans default:  23373982.5\n"
     ]
    }
   ],
   "source": [
    "print(\"Total loss if 380 loans default: \", round(sum(df.Loss), 2))"
   ]
  },
  {
   "cell_type": "code",
   "execution_count": null,
   "id": "efcf4974",
   "metadata": {},
   "outputs": [],
   "source": []
  }
 ],
 "metadata": {
  "kernelspec": {
   "display_name": "Python 3 (ipykernel)",
   "language": "python",
   "name": "python3"
  },
  "language_info": {
   "codemirror_mode": {
    "name": "ipython",
    "version": 3
   },
   "file_extension": ".py",
   "mimetype": "text/x-python",
   "name": "python",
   "nbconvert_exporter": "python",
   "pygments_lexer": "ipython3",
   "version": "3.11.5"
  }
 },
 "nbformat": 4,
 "nbformat_minor": 5
}
